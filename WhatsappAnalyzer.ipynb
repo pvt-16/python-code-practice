{
  "nbformat": 4,
  "nbformat_minor": 0,
  "metadata": {
    "colab": {
      "name": "WhatsappAnalyzer.ipynb",
      "version": "0.3.2",
      "provenance": [],
      "collapsed_sections": [],
      "include_colab_link": true
    },
    "kernelspec": {
      "name": "python3",
      "display_name": "Python 3"
    }
  },
  "cells": [
    {
      "cell_type": "markdown",
      "metadata": {
        "id": "view-in-github",
        "colab_type": "text"
      },
      "source": [
        "<a href=\"https://colab.research.google.com/github/pvt-16/pythonprojects/blob/master/WhatsappAnalyzer.ipynb\" target=\"_parent\"><img src=\"https://colab.research.google.com/assets/colab-badge.svg\" alt=\"Open In Colab\"/></a>"
      ]
    },
    {
      "cell_type": "code",
      "metadata": {
        "id": "b_Mvk8segKsK",
        "colab_type": "code",
        "colab": {}
      },
      "source": [
        "#import torch\n",
        "import re\n",
        "import pandas as pd"
      ],
      "execution_count": 0,
      "outputs": []
    },
    {
      "cell_type": "code",
      "metadata": {
        "id": "ka1uObHZJG-u",
        "colab_type": "code",
        "colab": {}
      },
      "source": [
        "def startsWithDateTime(s):\n",
        "    pattern = '^([0-2][0-9]|(3)[0-1])(\\/)(((0)[0-9])|((1)[0-2]))(\\/)\\d{4}, ([0-9][0-9]):([0-9][0-9]) -'\n",
        "    result = re.match(pattern, s)\n",
        "    if result:\n",
        "        return True\n",
        "    return False  "
      ],
      "execution_count": 0,
      "outputs": []
    },
    {
      "cell_type": "code",
      "metadata": {
        "id": "eSh0inQvGnW7",
        "colab_type": "code",
        "colab": {}
      },
      "source": [
        "def startsWithAuthor(s):\n",
        "    patterns = [\n",
        "        '([\\w]+):',                        # First Name\n",
        "        '([\\w]+[\\s]+[\\w]+):',              # First Name + Last Name\n",
        "        '([\\w]+[\\s]+[\\w]+[\\s]+[\\w]+):',    # First Name + Middle Name + Last Name\n",
        "        '([+]\\d{2} \\d{5} \\d{5}):',         # Mobile Number (India)\n",
        "        '([+]\\d{2} \\d{3} \\d{3} \\d{4}):',   # Mobile Number (US)\n",
        "        '([+]\\d{2} \\d{4} \\d{7})'           # Mobile Number (Europe)\n",
        "    ]\n",
        "    pattern = '^' + '|'.join(patterns)\n",
        "    result = re.match(pattern, s)\n",
        "    if result:\n",
        "        return True\n",
        "    return False"
      ],
      "execution_count": 0,
      "outputs": []
    },
    {
      "cell_type": "code",
      "metadata": {
        "id": "R6gQJtTOGxn7",
        "colab_type": "code",
        "colab": {}
      },
      "source": [
        "def getDataPoint(line):\n",
        "    # line = 18/06/17, 22:47 - Loki: Why do you have 2 numbers, Banner?\n",
        "    \n",
        "    splitLine = line.split(' - ') # splitLine = ['18/06/17, 22:47', 'Loki: Why do you have 2 numbers, Banner?']\n",
        "    \n",
        "    dateTime = splitLine[0] # dateTime = '18/06/17, 22:47'\n",
        "    \n",
        "    date, time = dateTime.split(', ') # date = '18/06/17'; time = '22:47'\n",
        "    \n",
        "    message = ' '.join(splitLine[1:]) # message = 'Loki: Why do you have 2 numbers, Banner?'\n",
        "    \n",
        "    if startsWithAuthor(message): # True\n",
        "        splitMessage = message.split(': ') # splitMessage = ['Loki', 'Why do you have 2 numbers, Banner?']\n",
        "        author = splitMessage[0] # author = 'Loki'\n",
        "        message = ' '.join(splitMessage[1:]) # message = 'Why do you have 2 numbers, Banner?'\n",
        "    else:\n",
        "        author = None\n",
        "    return date, time, author, message"
      ],
      "execution_count": 0,
      "outputs": []
    },
    {
      "cell_type": "code",
      "metadata": {
        "id": "n6szJSRkG6h7",
        "colab_type": "code",
        "colab": {}
      },
      "source": [
        "parsedData = [] # List to keep track of data so it can be used by a Pandas dataframe\n",
        "conversationPath = './WhatsApp Chat with BYOB-Bangalore.txt' \n",
        "with open(conversationPath, encoding=\"utf-8\") as fp:\n",
        "    fp.readline() # Skipping first line of the file (usually contains information about end-to-end encryption)\n",
        "        \n",
        "    messageBuffer = [] # Buffer to capture intermediate output for multi-line messages\n",
        "    date, time, author = None, None, None # Intermediate variables to keep track of the current message being processed\n",
        "    \n",
        "    count = 0\n",
        "    while True:\n",
        "        line = fp.readline() \n",
        "        #print(line)\n",
        "        if not line or count > 50000: # Stop reading further if end of file has been reached\n",
        "            break\n",
        "        line = line.strip() # Guarding against erroneous leading and trailing whitespaces\n",
        "        if startsWithDateTime(line): # If a line starts with a Date Time pattern, then this indicates the beginning of a new message\n",
        "            if len(messageBuffer) > 0: # Check if the message buffer contains characters from previous iterations\n",
        "                parsedData.append([date, time, author, ' '.join(messageBuffer)]) # Save the tokens from the previous message in parsedData\n",
        "            #print(parsedData)\n",
        "            messageBuffer.clear() # Clear the message buffer so that it can be used for the next message\n",
        "            date, time, author, message = getDataPoint(line) # Identify and extract tokens from the line\n",
        "            messageBuffer.append(message) # Append message to buffer\n",
        "        else:\n",
        "            messageBuffer.append(line) # If a line doesn't start with a Date Time pattern, then it is part of a multi-line message. So, just append to buffer\n",
        "        count += 1"
      ],
      "execution_count": 0,
      "outputs": []
    },
    {
      "cell_type": "code",
      "metadata": {
        "id": "9Y8Pv6qUHgMQ",
        "colab_type": "code",
        "outputId": "f413bb8f-0169-405e-bd6c-04d506b8e6da",
        "colab": {
          "base_uri": "https://localhost:8080/",
          "height": 206
        }
      },
      "source": [
        "#pd is pandas library\n",
        "df = pd.DataFrame(parsedData, columns=['Date', 'Time', 'Author', 'Message'])\n",
        "df.head()\n"
      ],
      "execution_count": 29,
      "outputs": [
        {
          "output_type": "execute_result",
          "data": {
            "text/html": [
              "<div>\n",
              "<style scoped>\n",
              "    .dataframe tbody tr th:only-of-type {\n",
              "        vertical-align: middle;\n",
              "    }\n",
              "\n",
              "    .dataframe tbody tr th {\n",
              "        vertical-align: top;\n",
              "    }\n",
              "\n",
              "    .dataframe thead th {\n",
              "        text-align: right;\n",
              "    }\n",
              "</style>\n",
              "<table border=\"1\" class=\"dataframe\">\n",
              "  <thead>\n",
              "    <tr style=\"text-align: right;\">\n",
              "      <th></th>\n",
              "      <th>Date</th>\n",
              "      <th>Time</th>\n",
              "      <th>Author</th>\n",
              "      <th>Message</th>\n",
              "    </tr>\n",
              "  </thead>\n",
              "  <tbody>\n",
              "    <tr>\n",
              "      <th>0</th>\n",
              "      <td>25/09/2016</td>\n",
              "      <td>21:50</td>\n",
              "      <td>None</td>\n",
              "      <td>Pratyush BYOB created group \"BYOB-Bangalore\"</td>\n",
              "    </tr>\n",
              "    <tr>\n",
              "      <th>1</th>\n",
              "      <td>18/06/2017</td>\n",
              "      <td>22:37</td>\n",
              "      <td>None</td>\n",
              "      <td>Pratyush BYOB added you</td>\n",
              "    </tr>\n",
              "    <tr>\n",
              "      <th>2</th>\n",
              "      <td>18/06/2017</td>\n",
              "      <td>22:37</td>\n",
              "      <td>None</td>\n",
              "      <td>Pratyush BYOB added Mr. CTO</td>\n",
              "    </tr>\n",
              "    <tr>\n",
              "      <th>3</th>\n",
              "      <td>18/06/2017</td>\n",
              "      <td>22:37</td>\n",
              "      <td>None</td>\n",
              "      <td>Pratyush BYOB added +91 75065 02224</td>\n",
              "    </tr>\n",
              "    <tr>\n",
              "      <th>4</th>\n",
              "      <td>18/06/2017</td>\n",
              "      <td>22:29</td>\n",
              "      <td>Pratyush BYOB</td>\n",
              "      <td>Hello new members. Despite our cricket team de...</td>\n",
              "    </tr>\n",
              "  </tbody>\n",
              "</table>\n",
              "</div>"
            ],
            "text/plain": [
              "         Date   Time         Author  \\\n",
              "0  25/09/2016  21:50           None   \n",
              "1  18/06/2017  22:37           None   \n",
              "2  18/06/2017  22:37           None   \n",
              "3  18/06/2017  22:37           None   \n",
              "4  18/06/2017  22:29  Pratyush BYOB   \n",
              "\n",
              "                                             Message  \n",
              "0       Pratyush BYOB created group \"BYOB-Bangalore\"  \n",
              "1                            Pratyush BYOB added you  \n",
              "2                        Pratyush BYOB added Mr. CTO  \n",
              "3                Pratyush BYOB added +91 75065 02224  \n",
              "4  Hello new members. Despite our cricket team de...  "
            ]
          },
          "metadata": {
            "tags": []
          },
          "execution_count": 29
        }
      ]
    },
    {
      "cell_type": "code",
      "metadata": {
        "id": "EMAGZhmGgjTu",
        "colab_type": "code",
        "outputId": "88f96b8e-4aef-434b-c4e4-7a479ed13d69",
        "colab": {
          "base_uri": "https://localhost:8080/",
          "height": 206
        }
      },
      "source": [
        "# f= open(\"./WhatsApp Chat with BYOB-Bangalore.txt\",\"r\")\n",
        "# content=f.read()\n",
        "#startsWithDateTime(\"18/06/17, 22:47 - Loki: Why do you have 2 numbers, Banner?\")\n",
        "\n",
        "df.tail()\n",
        "#startsWithDateTime('25/09/2016, 21:50 - Pratyush BYOB created group \"BYOB-Bangalore\"')"
      ],
      "execution_count": 30,
      "outputs": [
        {
          "output_type": "execute_result",
          "data": {
            "text/html": [
              "<div>\n",
              "<style scoped>\n",
              "    .dataframe tbody tr th:only-of-type {\n",
              "        vertical-align: middle;\n",
              "    }\n",
              "\n",
              "    .dataframe tbody tr th {\n",
              "        vertical-align: top;\n",
              "    }\n",
              "\n",
              "    .dataframe thead th {\n",
              "        text-align: right;\n",
              "    }\n",
              "</style>\n",
              "<table border=\"1\" class=\"dataframe\">\n",
              "  <thead>\n",
              "    <tr style=\"text-align: right;\">\n",
              "      <th></th>\n",
              "      <th>Date</th>\n",
              "      <th>Time</th>\n",
              "      <th>Author</th>\n",
              "      <th>Message</th>\n",
              "    </tr>\n",
              "  </thead>\n",
              "  <tbody>\n",
              "    <tr>\n",
              "      <th>17716</th>\n",
              "      <td>28/04/2019</td>\n",
              "      <td>17:43</td>\n",
              "      <td>+91 99726 13977</td>\n",
              "      <td>Would buy it today. Thanks for the response.</td>\n",
              "    </tr>\n",
              "    <tr>\n",
              "      <th>17717</th>\n",
              "      <td>28/04/2019</td>\n",
              "      <td>18:04</td>\n",
              "      <td>+91 96630 00822</td>\n",
              "      <td>and whr is it?</td>\n",
              "    </tr>\n",
              "    <tr>\n",
              "      <th>17718</th>\n",
              "      <td>28/04/2019</td>\n",
              "      <td>18:05</td>\n",
              "      <td>Anand BYOB</td>\n",
              "      <td>Koramangala area ...</td>\n",
              "    </tr>\n",
              "    <tr>\n",
              "      <th>17719</th>\n",
              "      <td>28/04/2019</td>\n",
              "      <td>18:10</td>\n",
              "      <td>+91 96630 00822</td>\n",
              "      <td>👍</td>\n",
              "    </tr>\n",
              "    <tr>\n",
              "      <th>17720</th>\n",
              "      <td>29/04/2019</td>\n",
              "      <td>09:00</td>\n",
              "      <td>+91 97403 61494</td>\n",
              "      <td>Hopefully I will get a chance to talk about my...</td>\n",
              "    </tr>\n",
              "  </tbody>\n",
              "</table>\n",
              "</div>"
            ],
            "text/plain": [
              "             Date   Time           Author  \\\n",
              "17716  28/04/2019  17:43  +91 99726 13977   \n",
              "17717  28/04/2019  18:04  +91 96630 00822   \n",
              "17718  28/04/2019  18:05       Anand BYOB   \n",
              "17719  28/04/2019  18:10  +91 96630 00822   \n",
              "17720  29/04/2019  09:00  +91 97403 61494   \n",
              "\n",
              "                                                 Message  \n",
              "17716       Would buy it today. Thanks for the response.  \n",
              "17717                                     and whr is it?  \n",
              "17718                               Koramangala area ...  \n",
              "17719                                                  👍  \n",
              "17720  Hopefully I will get a chance to talk about my...  "
            ]
          },
          "metadata": {
            "tags": []
          },
          "execution_count": 30
        }
      ]
    },
    {
      "cell_type": "code",
      "metadata": {
        "id": "pObMUSIxJYiR",
        "colab_type": "code",
        "outputId": "ff02524a-8062-4e00-a105-cd6a0b853fe0",
        "colab": {
          "base_uri": "https://localhost:8080/",
          "height": 175
        }
      },
      "source": [
        "df.describe()"
      ],
      "execution_count": 31,
      "outputs": [
        {
          "output_type": "execute_result",
          "data": {
            "text/html": [
              "<div>\n",
              "<style scoped>\n",
              "    .dataframe tbody tr th:only-of-type {\n",
              "        vertical-align: middle;\n",
              "    }\n",
              "\n",
              "    .dataframe tbody tr th {\n",
              "        vertical-align: top;\n",
              "    }\n",
              "\n",
              "    .dataframe thead th {\n",
              "        text-align: right;\n",
              "    }\n",
              "</style>\n",
              "<table border=\"1\" class=\"dataframe\">\n",
              "  <thead>\n",
              "    <tr style=\"text-align: right;\">\n",
              "      <th></th>\n",
              "      <th>Date</th>\n",
              "      <th>Time</th>\n",
              "      <th>Author</th>\n",
              "      <th>Message</th>\n",
              "    </tr>\n",
              "  </thead>\n",
              "  <tbody>\n",
              "    <tr>\n",
              "      <th>count</th>\n",
              "      <td>17721</td>\n",
              "      <td>17721</td>\n",
              "      <td>17360</td>\n",
              "      <td>17721</td>\n",
              "    </tr>\n",
              "    <tr>\n",
              "      <th>unique</th>\n",
              "      <td>612</td>\n",
              "      <td>1281</td>\n",
              "      <td>92</td>\n",
              "      <td>13952</td>\n",
              "    </tr>\n",
              "    <tr>\n",
              "      <th>top</th>\n",
              "      <td>22/09/2017</td>\n",
              "      <td>20:15</td>\n",
              "      <td>Anand BYOB</td>\n",
              "      <td>&lt;Media omitted&gt;</td>\n",
              "    </tr>\n",
              "    <tr>\n",
              "      <th>freq</th>\n",
              "      <td>266</td>\n",
              "      <td>45</td>\n",
              "      <td>2826</td>\n",
              "      <td>1475</td>\n",
              "    </tr>\n",
              "  </tbody>\n",
              "</table>\n",
              "</div>"
            ],
            "text/plain": [
              "              Date   Time      Author          Message\n",
              "count        17721  17721       17360            17721\n",
              "unique         612   1281          92            13952\n",
              "top     22/09/2017  20:15  Anand BYOB  <Media omitted>\n",
              "freq           266     45        2826             1475"
            ]
          },
          "metadata": {
            "tags": []
          },
          "execution_count": 31
        }
      ]
    },
    {
      "cell_type": "code",
      "metadata": {
        "id": "NfF8uQUlKls8",
        "colab_type": "code",
        "outputId": "51a7944f-2e18-4635-9950-4f2af17f5747",
        "colab": {
          "base_uri": "https://localhost:8080/",
          "height": 267
        }
      },
      "source": [
        "!pip install data-anonymizer-mapper"
      ],
      "execution_count": 10,
      "outputs": [
        {
          "output_type": "stream",
          "text": [
            "Collecting data-anonymizer-mapper\n",
            "  Downloading https://files.pythonhosted.org/packages/b9/ce/81066c2fd260e53bec12d699fefccf269b27cad9c5623b1debfee3022d44/data-anonymizer-mapper-0.1.0.tar.gz\n",
            "Collecting faker (from data-anonymizer-mapper)\n",
            "\u001b[?25l  Downloading https://files.pythonhosted.org/packages/9a/8e/d57b5b93066709524286c88a645869fff7ce89be3cd7f5621d08d8a9a8d3/Faker-1.0.6-py2.py3-none-any.whl (870kB)\n",
            "\u001b[K     |████████████████████████████████| 880kB 2.8MB/s \n",
            "\u001b[?25hRequirement already satisfied: text-unidecode==1.2 in /usr/local/lib/python3.6/dist-packages (from faker->data-anonymizer-mapper) (1.2)\n",
            "Requirement already satisfied: six>=1.10 in /usr/local/lib/python3.6/dist-packages (from faker->data-anonymizer-mapper) (1.12.0)\n",
            "Requirement already satisfied: python-dateutil>=2.4 in /usr/local/lib/python3.6/dist-packages (from faker->data-anonymizer-mapper) (2.5.3)\n",
            "Building wheels for collected packages: data-anonymizer-mapper\n",
            "  Building wheel for data-anonymizer-mapper (setup.py) ... \u001b[?25l\u001b[?25hdone\n",
            "  Stored in directory: /root/.cache/pip/wheels/65/c3/97/d4d68915a0735f46ddb2ff412825aa2d71bd23dbf88a84407e\n",
            "Successfully built data-anonymizer-mapper\n",
            "Installing collected packages: faker, data-anonymizer-mapper\n",
            "Successfully installed data-anonymizer-mapper-0.1.0 faker-1.0.6\n"
          ],
          "name": "stdout"
        }
      ]
    },
    {
      "cell_type": "code",
      "metadata": {
        "id": "Jl-GrOlRK9uL",
        "colab_type": "code",
        "colab": {}
      },
      "source": [
        "from anonymizer import Anonymizer\n",
        "anonymizer = Anonymizer()\n",
        "df['Author'] = df['Author'].apply(lambda s : anonymizer.get_anonymized_name(s) if s is not None else s)"
      ],
      "execution_count": 0,
      "outputs": []
    },
    {
      "cell_type": "code",
      "metadata": {
        "id": "_QT-iI0gMr5Z",
        "colab_type": "code",
        "colab": {
          "base_uri": "https://localhost:8080/",
          "height": 206
        },
        "outputId": "c78fcaca-f6bc-4db5-ac3a-909232bb6622"
      },
      "source": [
        "df.head()"
      ],
      "execution_count": 34,
      "outputs": [
        {
          "output_type": "execute_result",
          "data": {
            "text/html": [
              "<div>\n",
              "<style scoped>\n",
              "    .dataframe tbody tr th:only-of-type {\n",
              "        vertical-align: middle;\n",
              "    }\n",
              "\n",
              "    .dataframe tbody tr th {\n",
              "        vertical-align: top;\n",
              "    }\n",
              "\n",
              "    .dataframe thead th {\n",
              "        text-align: right;\n",
              "    }\n",
              "</style>\n",
              "<table border=\"1\" class=\"dataframe\">\n",
              "  <thead>\n",
              "    <tr style=\"text-align: right;\">\n",
              "      <th></th>\n",
              "      <th>Date</th>\n",
              "      <th>Time</th>\n",
              "      <th>Author</th>\n",
              "      <th>Message</th>\n",
              "    </tr>\n",
              "  </thead>\n",
              "  <tbody>\n",
              "    <tr>\n",
              "      <th>0</th>\n",
              "      <td>25/09/2016</td>\n",
              "      <td>21:50</td>\n",
              "      <td>None</td>\n",
              "      <td>Pratyush BYOB created group \"BYOB-Bangalore\"</td>\n",
              "    </tr>\n",
              "    <tr>\n",
              "      <th>1</th>\n",
              "      <td>18/06/2017</td>\n",
              "      <td>22:37</td>\n",
              "      <td>None</td>\n",
              "      <td>Pratyush BYOB added you</td>\n",
              "    </tr>\n",
              "    <tr>\n",
              "      <th>2</th>\n",
              "      <td>18/06/2017</td>\n",
              "      <td>22:37</td>\n",
              "      <td>None</td>\n",
              "      <td>Pratyush BYOB added Mr. CTO</td>\n",
              "    </tr>\n",
              "    <tr>\n",
              "      <th>3</th>\n",
              "      <td>18/06/2017</td>\n",
              "      <td>22:37</td>\n",
              "      <td>None</td>\n",
              "      <td>Pratyush BYOB added +91 75065 02224</td>\n",
              "    </tr>\n",
              "    <tr>\n",
              "      <th>4</th>\n",
              "      <td>18/06/2017</td>\n",
              "      <td>22:29</td>\n",
              "      <td>Samantha Perry</td>\n",
              "      <td>Hello new members. Despite our cricket team de...</td>\n",
              "    </tr>\n",
              "  </tbody>\n",
              "</table>\n",
              "</div>"
            ],
            "text/plain": [
              "         Date   Time          Author  \\\n",
              "0  25/09/2016  21:50            None   \n",
              "1  18/06/2017  22:37            None   \n",
              "2  18/06/2017  22:37            None   \n",
              "3  18/06/2017  22:37            None   \n",
              "4  18/06/2017  22:29  Samantha Perry   \n",
              "\n",
              "                                             Message  \n",
              "0       Pratyush BYOB created group \"BYOB-Bangalore\"  \n",
              "1                            Pratyush BYOB added you  \n",
              "2                        Pratyush BYOB added Mr. CTO  \n",
              "3                Pratyush BYOB added +91 75065 02224  \n",
              "4  Hello new members. Despite our cricket team de...  "
            ]
          },
          "metadata": {
            "tags": []
          },
          "execution_count": 34
        }
      ]
    },
    {
      "cell_type": "code",
      "metadata": {
        "id": "iVgGFF11M3Go",
        "colab_type": "code",
        "colab": {
          "base_uri": "https://localhost:8080/",
          "height": 206
        },
        "outputId": "58be420b-ad46-4e67-c294-41ba3bf8e77b"
      },
      "source": [
        "df.tail()"
      ],
      "execution_count": 35,
      "outputs": [
        {
          "output_type": "execute_result",
          "data": {
            "text/html": [
              "<div>\n",
              "<style scoped>\n",
              "    .dataframe tbody tr th:only-of-type {\n",
              "        vertical-align: middle;\n",
              "    }\n",
              "\n",
              "    .dataframe tbody tr th {\n",
              "        vertical-align: top;\n",
              "    }\n",
              "\n",
              "    .dataframe thead th {\n",
              "        text-align: right;\n",
              "    }\n",
              "</style>\n",
              "<table border=\"1\" class=\"dataframe\">\n",
              "  <thead>\n",
              "    <tr style=\"text-align: right;\">\n",
              "      <th></th>\n",
              "      <th>Date</th>\n",
              "      <th>Time</th>\n",
              "      <th>Author</th>\n",
              "      <th>Message</th>\n",
              "    </tr>\n",
              "  </thead>\n",
              "  <tbody>\n",
              "    <tr>\n",
              "      <th>17716</th>\n",
              "      <td>28/04/2019</td>\n",
              "      <td>17:43</td>\n",
              "      <td>Barbara Torres</td>\n",
              "      <td>Would buy it today. Thanks for the response.</td>\n",
              "    </tr>\n",
              "    <tr>\n",
              "      <th>17717</th>\n",
              "      <td>28/04/2019</td>\n",
              "      <td>18:04</td>\n",
              "      <td>Ryan Sloan</td>\n",
              "      <td>and whr is it?</td>\n",
              "    </tr>\n",
              "    <tr>\n",
              "      <th>17718</th>\n",
              "      <td>28/04/2019</td>\n",
              "      <td>18:05</td>\n",
              "      <td>Joshua Peterson MD</td>\n",
              "      <td>Koramangala area ...</td>\n",
              "    </tr>\n",
              "    <tr>\n",
              "      <th>17719</th>\n",
              "      <td>28/04/2019</td>\n",
              "      <td>18:10</td>\n",
              "      <td>Ryan Sloan</td>\n",
              "      <td>👍</td>\n",
              "    </tr>\n",
              "    <tr>\n",
              "      <th>17720</th>\n",
              "      <td>29/04/2019</td>\n",
              "      <td>09:00</td>\n",
              "      <td>Maurice Wilcox</td>\n",
              "      <td>Hopefully I will get a chance to talk about my...</td>\n",
              "    </tr>\n",
              "  </tbody>\n",
              "</table>\n",
              "</div>"
            ],
            "text/plain": [
              "             Date   Time              Author  \\\n",
              "17716  28/04/2019  17:43      Barbara Torres   \n",
              "17717  28/04/2019  18:04          Ryan Sloan   \n",
              "17718  28/04/2019  18:05  Joshua Peterson MD   \n",
              "17719  28/04/2019  18:10          Ryan Sloan   \n",
              "17720  29/04/2019  09:00      Maurice Wilcox   \n",
              "\n",
              "                                                 Message  \n",
              "17716       Would buy it today. Thanks for the response.  \n",
              "17717                                     and whr is it?  \n",
              "17718                               Koramangala area ...  \n",
              "17719                                                  👍  \n",
              "17720  Hopefully I will get a chance to talk about my...  "
            ]
          },
          "metadata": {
            "tags": []
          },
          "execution_count": 35
        }
      ]
    },
    {
      "cell_type": "code",
      "metadata": {
        "id": "dJHjB32mM3t2",
        "colab_type": "code",
        "outputId": "b616ad26-ea30-4008-c13c-9f308d29bbe6",
        "colab": {
          "base_uri": "https://localhost:8080/",
          "height": 175
        }
      },
      "source": [
        "df.describe()\n"
      ],
      "execution_count": 36,
      "outputs": [
        {
          "output_type": "execute_result",
          "data": {
            "text/html": [
              "<div>\n",
              "<style scoped>\n",
              "    .dataframe tbody tr th:only-of-type {\n",
              "        vertical-align: middle;\n",
              "    }\n",
              "\n",
              "    .dataframe tbody tr th {\n",
              "        vertical-align: top;\n",
              "    }\n",
              "\n",
              "    .dataframe thead th {\n",
              "        text-align: right;\n",
              "    }\n",
              "</style>\n",
              "<table border=\"1\" class=\"dataframe\">\n",
              "  <thead>\n",
              "    <tr style=\"text-align: right;\">\n",
              "      <th></th>\n",
              "      <th>Date</th>\n",
              "      <th>Time</th>\n",
              "      <th>Author</th>\n",
              "      <th>Message</th>\n",
              "    </tr>\n",
              "  </thead>\n",
              "  <tbody>\n",
              "    <tr>\n",
              "      <th>count</th>\n",
              "      <td>17721</td>\n",
              "      <td>17721</td>\n",
              "      <td>17360</td>\n",
              "      <td>17721</td>\n",
              "    </tr>\n",
              "    <tr>\n",
              "      <th>unique</th>\n",
              "      <td>612</td>\n",
              "      <td>1281</td>\n",
              "      <td>92</td>\n",
              "      <td>13952</td>\n",
              "    </tr>\n",
              "    <tr>\n",
              "      <th>top</th>\n",
              "      <td>22/09/2017</td>\n",
              "      <td>20:15</td>\n",
              "      <td>Joshua Peterson MD</td>\n",
              "      <td>&lt;Media omitted&gt;</td>\n",
              "    </tr>\n",
              "    <tr>\n",
              "      <th>freq</th>\n",
              "      <td>266</td>\n",
              "      <td>45</td>\n",
              "      <td>2826</td>\n",
              "      <td>1475</td>\n",
              "    </tr>\n",
              "  </tbody>\n",
              "</table>\n",
              "</div>"
            ],
            "text/plain": [
              "              Date   Time              Author          Message\n",
              "count        17721  17721               17360            17721\n",
              "unique         612   1281                  92            13952\n",
              "top     22/09/2017  20:15  Joshua Peterson MD  <Media omitted>\n",
              "freq           266     45                2826             1475"
            ]
          },
          "metadata": {
            "tags": []
          },
          "execution_count": 36
        }
      ]
    },
    {
      "cell_type": "code",
      "metadata": {
        "id": "JCO8hkRRNt9p",
        "colab_type": "code",
        "outputId": "0418f7ec-6707-404b-d22c-b8f03199157e",
        "colab": {
          "base_uri": "https://localhost:8080/",
          "height": 287
        }
      },
      "source": [
        "author_value_counts = df['Author'].value_counts() # Number of messages per author\n",
        "top_10_author_value_counts = author_value_counts.head(10) # Number of messages per author for the top 10 most active authors\n",
        "top_10_author_value_counts.plot.barh() # Plot a bar chart using pandas built-in plotting apis"
      ],
      "execution_count": 37,
      "outputs": [
        {
          "output_type": "execute_result",
          "data": {
            "text/plain": [
              "<matplotlib.axes._subplots.AxesSubplot at 0x7f09f5f80940>"
            ]
          },
          "metadata": {
            "tags": []
          },
          "execution_count": 37
        },
        {
          "output_type": "display_data",
          "data": {
            "image/png": "[encoded data removed]",
            "text/plain": [
              "<Figure size 432x288 with 1 Axes>"
            ]
          },
          "metadata": {
            "tags": []
          }
        }
      ]
    },
    {
      "cell_type": "code",
      "metadata": {
        "id": "J3ZEq94gN4RD",
        "colab_type": "code",
        "colab": {
          "base_uri": "https://localhost:8080/",
          "height": 206
        },
        "outputId": "855f50bd-7e5c-494c-8f28-8bf5f848f712"
      },
      "source": [
        "null_authors_df = df[df['Author'].isnull()]\n",
        "null_authors_df.head()"
      ],
      "execution_count": 41,
      "outputs": [
        {
          "output_type": "execute_result",
          "data": {
            "text/html": [
              "<div>\n",
              "<style scoped>\n",
              "    .dataframe tbody tr th:only-of-type {\n",
              "        vertical-align: middle;\n",
              "    }\n",
              "\n",
              "    .dataframe tbody tr th {\n",
              "        vertical-align: top;\n",
              "    }\n",
              "\n",
              "    .dataframe thead th {\n",
              "        text-align: right;\n",
              "    }\n",
              "</style>\n",
              "<table border=\"1\" class=\"dataframe\">\n",
              "  <thead>\n",
              "    <tr style=\"text-align: right;\">\n",
              "      <th></th>\n",
              "      <th>Date</th>\n",
              "      <th>Time</th>\n",
              "      <th>Author</th>\n",
              "      <th>Message</th>\n",
              "    </tr>\n",
              "  </thead>\n",
              "  <tbody>\n",
              "    <tr>\n",
              "      <th>0</th>\n",
              "      <td>25/09/2016</td>\n",
              "      <td>21:50</td>\n",
              "      <td>None</td>\n",
              "      <td>Pratyush BYOB created group \"BYOB-Bangalore\"</td>\n",
              "    </tr>\n",
              "    <tr>\n",
              "      <th>1</th>\n",
              "      <td>18/06/2017</td>\n",
              "      <td>22:37</td>\n",
              "      <td>None</td>\n",
              "      <td>Pratyush BYOB added you</td>\n",
              "    </tr>\n",
              "    <tr>\n",
              "      <th>2</th>\n",
              "      <td>18/06/2017</td>\n",
              "      <td>22:37</td>\n",
              "      <td>None</td>\n",
              "      <td>Pratyush BYOB added Mr. CTO</td>\n",
              "    </tr>\n",
              "    <tr>\n",
              "      <th>3</th>\n",
              "      <td>18/06/2017</td>\n",
              "      <td>22:37</td>\n",
              "      <td>None</td>\n",
              "      <td>Pratyush BYOB added +91 75065 02224</td>\n",
              "    </tr>\n",
              "    <tr>\n",
              "      <th>73</th>\n",
              "      <td>19/06/2017</td>\n",
              "      <td>13:45</td>\n",
              "      <td>None</td>\n",
              "      <td>+91 98115 22612 left</td>\n",
              "    </tr>\n",
              "  </tbody>\n",
              "</table>\n",
              "</div>"
            ],
            "text/plain": [
              "          Date   Time Author                                       Message\n",
              "0   25/09/2016  21:50   None  Pratyush BYOB created group \"BYOB-Bangalore\"\n",
              "1   18/06/2017  22:37   None                       Pratyush BYOB added you\n",
              "2   18/06/2017  22:37   None                   Pratyush BYOB added Mr. CTO\n",
              "3   18/06/2017  22:37   None           Pratyush BYOB added +91 75065 02224\n",
              "73  19/06/2017  13:45   None                          +91 98115 22612 left"
            ]
          },
          "metadata": {
            "tags": []
          },
          "execution_count": 41
        }
      ]
    },
    {
      "cell_type": "code",
      "metadata": {
        "id": "7Ts3fBuRbqOl",
        "colab_type": "code",
        "colab": {
          "base_uri": "https://localhost:8080/",
          "height": 35
        },
        "outputId": "d219578f-bda5-4a60-db5b-f7dde88e948c"
      },
      "source": [
        "media_messages_df = df[df['Message'] == '<Media omitted>']\n",
        "\n",
        "#df.shape[0] gives you the row count\n",
        "print(media_messages_df.shape[0])"
      ],
      "execution_count": 51,
      "outputs": [
        {
          "output_type": "stream",
          "text": [
            "1475\n"
          ],
          "name": "stdout"
        }
      ]
    },
    {
      "cell_type": "code",
      "metadata": {
        "id": "Wo3oWlX2b-7b",
        "colab_type": "code",
        "colab": {
          "base_uri": "https://localhost:8080/",
          "height": 214
        },
        "outputId": "605aeff1-2828-4dc0-de3d-a17baad9e775"
      },
      "source": [
        "#gives the count of messages by each author\n",
        "df['Author'].value_counts()\n",
        "\n",
        "#gives the count of <Media omitted> messages by each author\n",
        "media_messages_df['Author'].value_counts()\n",
        "\n",
        "media_messages_df['Author'].head(10)"
      ],
      "execution_count": 54,
      "outputs": [
        {
          "output_type": "execute_result",
          "data": {
            "text/plain": [
              "11            Edward Lynn\n",
              "173           Edward Lynn\n",
              "224        Maurice Wilcox\n",
              "237    Joshua Peterson MD\n",
              "313        Samantha Perry\n",
              "325    Joshua Peterson MD\n",
              "327    Joshua Peterson MD\n",
              "336           Michelle Li\n",
              "348         Jennifer Long\n",
              "349         Jennifer Long\n",
              "Name: Author, dtype: object"
            ]
          },
          "metadata": {
            "tags": []
          },
          "execution_count": 54
        }
      ]
    },
    {
      "cell_type": "code",
      "metadata": {
        "id": "TmBDHoX5cxvZ",
        "colab_type": "code",
        "colab": {}
      },
      "source": [
        ""
      ],
      "execution_count": 0,
      "outputs": []
    }
  ]
}